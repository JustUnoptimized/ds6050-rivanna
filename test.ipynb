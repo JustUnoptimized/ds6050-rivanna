{
 "cells": [
  {
   "cell_type": "code",
   "execution_count": null,
   "id": "a54c4540",
   "metadata": {},
   "outputs": [
    {
     "name": "stdout",
     "output_type": "stream",
     "text": [
      "2.2.6\n",
      "2.7.1+cu126\n",
      "4.67.1\n",
      "1.15.3\n"
     ]
    }
   ],
   "source": [
    "import numpy as np\n",
    "import torch\n",
    "import tqdm\n",
    "import scipy\n",
    "\n",
    "print(np.__version__)\n",
    "print(torch.__version__)\n",
    "print(tqdm.__version__)\n",
    "print(scipy.__version__)\n",
    "\n",
    "## You should see:\n",
    "## 2.2.6\n",
    "## 2.7.1+cu126\n",
    "## 4.67.1\n",
    "## 1.15.3"
   ]
  }
 ],
 "metadata": {
  "kernelspec": {
   "display_name": "dsvenv",
   "language": "python",
   "name": "dsvenv"
  },
  "language_info": {
   "codemirror_mode": {
    "name": "ipython",
    "version": 3
   },
   "file_extension": ".py",
   "mimetype": "text/x-python",
   "name": "python",
   "nbconvert_exporter": "python",
   "pygments_lexer": "ipython3",
   "version": "3.12.11"
  }
 },
 "nbformat": 4,
 "nbformat_minor": 5
}
